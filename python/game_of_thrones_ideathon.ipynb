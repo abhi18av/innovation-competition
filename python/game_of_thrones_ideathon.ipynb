{
 "cells": [
  {
   "cell_type": "markdown",
   "metadata": {
    "colab_type": "text",
    "collapsed": false,
    "id": "lUdD9gqAjC7U"
   },
   "source": [
    "# PROBLEM STATEMENT\n"
   ]
  },
  {
   "cell_type": "markdown",
   "metadata": {
    "colab_type": "text",
    "collapsed": false,
    "id": "2u7PqnkejHb7"
   },
   "source": [
    "There is an *innovation competition* across the land, and the various\n",
    "houses compete. All the ideas have been collected and scored, and now is the time\n",
    "to calculate the results to find out the most innovative houses.\n",
    "\n",
    "- The `innovation score` of a house is simply the `average scores` of all the ideas\n",
    "submitted by people affiliated with this house. \n",
    "\n",
    "- Higher is better. \n",
    "\n",
    "- Ideas with no scores are excluded from consideration.\n",
    "\n",
    "- Some people are affiliated with no house, in which case they should be counted as if in the house 'Free folk'.\n",
    "\n",
    "- Some people are affiliated with more than one house, in which case the idea is credited to each and every one of the affiliated houses. For example, if user A is affiliated with houses X and Y, and they have submitted an idea that has a score of 5.7, both house X and Y will add a score of 5.7 in their tally.\n",
    "\n",
    "## Input Data\n",
    "\n",
    "The input data is two JSON files, and their EDN counterparts (containing the same data).\n",
    "\n",
    "- `users.json` contains various users, each having an id first name, last name, email, and potentially a list of their house affiliation(s).\n",
    "\n",
    "- `ideas.json` contains various ideas, each one having an id, a title, a body, an author-id (pointing to one entry in the `users.json` file) and an array of numeric scores. Unfortunately some scores were lost and were replaced by nulls. These scores should be ignored entirely.\n",
    "\n",
    "\n",
    "## Expected output\n",
    "\n",
    "The results should include:\n",
    "\n",
    "- an list of the houses, from most innovative to least innovative\n",
    "- the innovation score of each house\n",
    "- the number of ideas submitted by each house\n",
    "\n"
   ]
  },
  {
   "cell_type": "markdown",
   "metadata": {
    "colab_type": "text",
    "collapsed": false,
    "id": "xVt70v3XfWd0"
   },
   "source": [
    "## Upload the given datasets\n",
    "\n",
    "- `ideas.json`\n",
    "- `users.json`"
   ]
  },
  {
   "cell_type": "markdown",
   "metadata": {
    "colab_type": "text",
    "collapsed": false,
    "id": "z8kMsUfifmG0"
   },
   "source": [
    "## Library Imports"
   ]
  },
  {
   "cell_type": "code",
   "execution_count": 2,
   "metadata": {
    "colab": {
    },
    "colab_type": "code",
    "collapsed": false,
    "id": "DOukVQx-fBPv"
   },
   "outputs": [
   ],
   "source": [
    "import pandas as pd\n",
    "import numpy as np\n",
    "import seaborn as sns\n",
    "import matplotlib\n",
    "import matplotlib.pyplot as plt\n",
    "%matplotlib inline \n",
    "\n",
    "import warnings\n",
    "warnings.filterwarnings(\"ignore\")\n"
   ]
  },
  {
   "cell_type": "markdown",
   "metadata": {
    "colab_type": "text",
    "collapsed": false,
    "id": "4_WRy4_GfpmD"
   },
   "source": [
    "## Read the datasets"
   ]
  },
  {
   "cell_type": "markdown",
   "metadata": {
    "colab_type": "text",
    "collapsed": false,
    "id": "MR64ooCVoVYZ"
   },
   "source": [
    "### `users.json` dataset"
   ]
  },
  {
   "cell_type": "code",
   "execution_count": 3,
   "metadata": {
    "colab": {
     "base_uri": "https://localhost:8080/",
     "height": 514
    },
    "colab_type": "code",
    "collapsed": false,
    "id": "UpwA_kgheHF2",
    "outputId": "afe67612-bc84-4d19-c195-6dfa131c4be9"
   },
   "outputs": [
    {
     "data": {
      "text/html": [
       "<div>\n",
       "<style scoped>\n",
       "    .dataframe tbody tr th:only-of-type {\n",
       "        vertical-align: middle;\n",
       "    }\n",
       "\n",
       "    .dataframe tbody tr th {\n",
       "        vertical-align: top;\n",
       "    }\n",
       "\n",
       "    .dataframe thead th {\n",
       "        text-align: right;\n",
       "    }\n",
       "</style>\n",
       "<table border=\"1\" class=\"dataframe\">\n",
       "  <thead>\n",
       "    <tr style=\"text-align: right;\">\n",
       "      <th></th>\n",
       "      <th>email</th>\n",
       "      <th>fname</th>\n",
       "      <th>house</th>\n",
       "      <th>id</th>\n",
       "      <th>lname</th>\n",
       "    </tr>\n",
       "  </thead>\n",
       "  <tbody>\n",
       "    <tr>\n",
       "      <th>0</th>\n",
       "      <td>annabelle75@me.com</td>\n",
       "      <td>Olivia</td>\n",
       "      <td>NaN</td>\n",
       "      <td>user-32-0008735</td>\n",
       "      <td>Raymond</td>\n",
       "    </tr>\n",
       "    <tr>\n",
       "      <th>1</th>\n",
       "      <td>taylor@me.com</td>\n",
       "      <td>Sebastian</td>\n",
       "      <td>Lannister</td>\n",
       "      <td>user-76-0007445</td>\n",
       "      <td>Meyer</td>\n",
       "    </tr>\n",
       "    <tr>\n",
       "      <th>2</th>\n",
       "      <td>britt@hotmail.com</td>\n",
       "      <td>Aiden</td>\n",
       "      <td>NaN</td>\n",
       "      <td>user-06-0008566</td>\n",
       "      <td>Howell</td>\n",
       "    </tr>\n",
       "    <tr>\n",
       "      <th>3</th>\n",
       "      <td>easton@gmail.com</td>\n",
       "      <td>Jocelyn</td>\n",
       "      <td>NaN</td>\n",
       "      <td>user-74-0003086</td>\n",
       "      <td>Mitchell</td>\n",
       "    </tr>\n",
       "    <tr>\n",
       "      <th>4</th>\n",
       "      <td>carpenter@hotmail.com</td>\n",
       "      <td>Jack</td>\n",
       "      <td>Tully</td>\n",
       "      <td>user-30-0007697</td>\n",
       "      <td>Crane</td>\n",
       "    </tr>\n",
       "    <tr>\n",
       "      <th>5</th>\n",
       "      <td>dominic.warner@yahoo.com</td>\n",
       "      <td>Sarah</td>\n",
       "      <td>Targaryen</td>\n",
       "      <td>user-00-0009417</td>\n",
       "      <td>Donaldson</td>\n",
       "    </tr>\n",
       "    <tr>\n",
       "      <th>6</th>\n",
       "      <td>pratt@yahoo.com</td>\n",
       "      <td>Charlotte</td>\n",
       "      <td>Tyrell</td>\n",
       "      <td>user-14-0006746</td>\n",
       "      <td>Hickman</td>\n",
       "    </tr>\n",
       "    <tr>\n",
       "      <th>7</th>\n",
       "      <td>christian996@hotmail.com</td>\n",
       "      <td>Gabriella</td>\n",
       "      <td>Tully</td>\n",
       "      <td>user-62-0008441</td>\n",
       "      <td>Griffith</td>\n",
       "    </tr>\n",
       "    <tr>\n",
       "      <th>8</th>\n",
       "      <td>aaron638@me.com</td>\n",
       "      <td>Aaliyah</td>\n",
       "      <td>[Lannister, Greyjoy]</td>\n",
       "      <td>user-20-0004583</td>\n",
       "      <td>Ware</td>\n",
       "    </tr>\n",
       "    <tr>\n",
       "      <th>9</th>\n",
       "      <td>jocelyn@gmail.com</td>\n",
       "      <td>Elizabeth</td>\n",
       "      <td>Greyjoy</td>\n",
       "      <td>user-95-0006252</td>\n",
       "      <td>Howard</td>\n",
       "    </tr>\n",
       "  </tbody>\n",
       "</table>\n",
       "</div>"
      ],
      "text/plain": [
       "                      email      fname                 house               id  \\\n",
       "0        annabelle75@me.com     Olivia                   NaN  user-32-0008735   \n",
       "1             taylor@me.com  Sebastian             Lannister  user-76-0007445   \n",
       "2         britt@hotmail.com      Aiden                   NaN  user-06-0008566   \n",
       "3          easton@gmail.com    Jocelyn                   NaN  user-74-0003086   \n",
       "4     carpenter@hotmail.com       Jack                 Tully  user-30-0007697   \n",
       "5  dominic.warner@yahoo.com      Sarah             Targaryen  user-00-0009417   \n",
       "6           pratt@yahoo.com  Charlotte                Tyrell  user-14-0006746   \n",
       "7  christian996@hotmail.com  Gabriella                 Tully  user-62-0008441   \n",
       "8           aaron638@me.com    Aaliyah  [Lannister, Greyjoy]  user-20-0004583   \n",
       "9         jocelyn@gmail.com  Elizabeth               Greyjoy  user-95-0006252   \n",
       "\n",
       "       lname  \n",
       "0    Raymond  \n",
       "1      Meyer  \n",
       "2     Howell  \n",
       "3   Mitchell  \n",
       "4      Crane  \n",
       "5  Donaldson  \n",
       "6    Hickman  \n",
       "7   Griffith  \n",
       "8       Ware  \n",
       "9     Howard  "
      ]
     },
     "execution_count": 3,
     "metadata": {
     },
     "output_type": "execute_result"
    }
   ],
   "source": [
    "users_df = pd.read_json(\"./users.json\")\n",
    "users_df.head(10)"
   ]
  },
  {
   "cell_type": "code",
   "execution_count": 4,
   "metadata": {
    "colab": {
     "base_uri": "https://localhost:8080/",
     "height": 123
    },
    "colab_type": "code",
    "collapsed": false,
    "id": "qo6qqpzUlaYe",
    "outputId": "7edff0bf-2b09-4a6c-cf40-ca042ec3617d"
   },
   "outputs": [
    {
     "data": {
      "text/plain": [
       "email         aaron638@me.com\n",
       "fname                 Aaliyah\n",
       "house    [Lannister, Greyjoy]\n",
       "id            user-20-0004583\n",
       "lname                    Ware\n",
       "Name: 8, dtype: object"
      ]
     },
     "execution_count": 4,
     "metadata": {
     },
     "output_type": "execute_result"
    }
   ],
   "source": [
    "# NOTE: Some people belong to two houses\n",
    "users_df.iloc[8]"
   ]
  },
  {
   "cell_type": "code",
   "execution_count": 5,
   "metadata": {
    "colab": {
     "base_uri": "https://localhost:8080/",
     "height": 194
    },
    "colab_type": "code",
    "collapsed": false,
    "id": "4IGG8sxOfyUN",
    "outputId": "b7808706-b79a-4538-c183-0d1b6c9f740c"
   },
   "outputs": [
    {
     "name": "stdout",
     "output_type": "stream",
     "text": [
      "<class 'pandas.core.frame.DataFrame'>\n",
      "RangeIndex: 500 entries, 0 to 499\n",
      "Data columns (total 5 columns):\n",
      "email    500 non-null object\n",
      "fname    500 non-null object\n",
      "house    330 non-null object\n",
      "id       500 non-null object\n",
      "lname    500 non-null object\n",
      "dtypes: object(5)\n",
      "memory usage: 19.6+ KB\n"
     ]
    }
   ],
   "source": [
    "# General info about the dataset\n",
    "users_df.info()"
   ]
  },
  {
   "cell_type": "markdown",
   "metadata": {
    "colab_type": "text",
    "collapsed": false,
    "id": "d9bqIxcLoZgM"
   },
   "source": [
    "### `ideas.json` dataset"
   ]
  },
  {
   "cell_type": "code",
   "execution_count": 6,
   "metadata": {
    "colab": {
     "base_uri": "https://localhost:8080/",
     "height": 681
    },
    "colab_type": "code",
    "collapsed": false,
    "id": "NG4wDdF_e_wL",
    "outputId": "7ef5a191-cafa-4286-b0aa-25aa8e891418"
   },
   "outputs": [
    {
     "data": {
      "text/html": [
       "<div>\n",
       "<style scoped>\n",
       "    .dataframe tbody tr th:only-of-type {\n",
       "        vertical-align: middle;\n",
       "    }\n",
       "\n",
       "    .dataframe tbody tr th {\n",
       "        vertical-align: top;\n",
       "    }\n",
       "\n",
       "    .dataframe thead th {\n",
       "        text-align: right;\n",
       "    }\n",
       "</style>\n",
       "<table border=\"1\" class=\"dataframe\">\n",
       "  <thead>\n",
       "    <tr style=\"text-align: right;\">\n",
       "      <th></th>\n",
       "      <th>author-id</th>\n",
       "      <th>body</th>\n",
       "      <th>id</th>\n",
       "      <th>scores</th>\n",
       "      <th>title</th>\n",
       "    </tr>\n",
       "  </thead>\n",
       "  <tbody>\n",
       "    <tr>\n",
       "      <th>0</th>\n",
       "      <td>user-26-0005211</td>\n",
       "      <td>Omnis eum eos distinctio minima. Odio et natus...</td>\n",
       "      <td>idea-23-0003909</td>\n",
       "      <td>[None, 5, 2]</td>\n",
       "      <td>Eius velit maiores molestiae error dolor odio ...</td>\n",
       "    </tr>\n",
       "    <tr>\n",
       "      <th>1</th>\n",
       "      <td>user-42-0007278</td>\n",
       "      <td>Eveniet voluptatum quis et at sed nesciunt fac...</td>\n",
       "      <td>idea-95-0003507</td>\n",
       "      <td>[2]</td>\n",
       "      <td>Iusto adipisci illo voluptatem vel assumenda sit.</td>\n",
       "    </tr>\n",
       "    <tr>\n",
       "      <th>2</th>\n",
       "      <td>user-45-0005583</td>\n",
       "      <td>Ea voluptatem dicta delectus facere repellat v...</td>\n",
       "      <td>idea-62-0003354</td>\n",
       "      <td>[1]</td>\n",
       "      <td>Iure et ut dolor optio rerum et quod debitis.</td>\n",
       "    </tr>\n",
       "    <tr>\n",
       "      <th>3</th>\n",
       "      <td>user-78-0008498</td>\n",
       "      <td>Necessitatibus deserunt iusto vitae autem occa...</td>\n",
       "      <td>idea-76-0007706</td>\n",
       "      <td>[7, 1, 2, 8, 3, 5]</td>\n",
       "      <td>Non tenetur earum provident repellat deserunt.</td>\n",
       "    </tr>\n",
       "    <tr>\n",
       "      <th>4</th>\n",
       "      <td>user-23-0001583</td>\n",
       "      <td>Autem adipisci eos mollitia maiores sequi dolo...</td>\n",
       "      <td>idea-21-0008511</td>\n",
       "      <td>[9, 6, 7, 8, 3]</td>\n",
       "      <td>Vel impedit vel omnis minus possimus explicabo...</td>\n",
       "    </tr>\n",
       "    <tr>\n",
       "      <th>5</th>\n",
       "      <td>user-05-0004617</td>\n",
       "      <td>Est amet perferendis consequatur quam accusant...</td>\n",
       "      <td>idea-64-0007805</td>\n",
       "      <td>[None, 8]</td>\n",
       "      <td>Expedita sit vel vel quod.</td>\n",
       "    </tr>\n",
       "    <tr>\n",
       "      <th>6</th>\n",
       "      <td>user-94-0002159</td>\n",
       "      <td>Quam quisquam sint sit et suscipit fugiat exce...</td>\n",
       "      <td>idea-14-0007748</td>\n",
       "      <td>[None, 2, 0]</td>\n",
       "      <td>Voluptate et assumenda ab et est sint recusandae.</td>\n",
       "    </tr>\n",
       "    <tr>\n",
       "      <th>7</th>\n",
       "      <td>user-46-0002967</td>\n",
       "      <td>Assumenda deserunt illum consequatur enim. Cor...</td>\n",
       "      <td>idea-92-0005095</td>\n",
       "      <td>[2, 9, 6, 2, 9]</td>\n",
       "      <td>Iusto et provident totam voluptatem.</td>\n",
       "    </tr>\n",
       "    <tr>\n",
       "      <th>8</th>\n",
       "      <td>user-54-0009179</td>\n",
       "      <td>Magnam nulla esse placeat quos. Dolores nihil ...</td>\n",
       "      <td>idea-13-0000962</td>\n",
       "      <td>[9]</td>\n",
       "      <td>Facilis quo rerum officiis dolorum eaque.</td>\n",
       "    </tr>\n",
       "    <tr>\n",
       "      <th>9</th>\n",
       "      <td>user-81-0004613</td>\n",
       "      <td>Laborum sit doloribus earum cum. Dolore repudi...</td>\n",
       "      <td>idea-04-0007915</td>\n",
       "      <td>[5, 4, 8]</td>\n",
       "      <td>Magni magnam praesentium adipisci odio rerum.</td>\n",
       "    </tr>\n",
       "  </tbody>\n",
       "</table>\n",
       "</div>"
      ],
      "text/plain": [
       "         author-id                                               body  \\\n",
       "0  user-26-0005211  Omnis eum eos distinctio minima. Odio et natus...   \n",
       "1  user-42-0007278  Eveniet voluptatum quis et at sed nesciunt fac...   \n",
       "2  user-45-0005583  Ea voluptatem dicta delectus facere repellat v...   \n",
       "3  user-78-0008498  Necessitatibus deserunt iusto vitae autem occa...   \n",
       "4  user-23-0001583  Autem adipisci eos mollitia maiores sequi dolo...   \n",
       "5  user-05-0004617  Est amet perferendis consequatur quam accusant...   \n",
       "6  user-94-0002159  Quam quisquam sint sit et suscipit fugiat exce...   \n",
       "7  user-46-0002967  Assumenda deserunt illum consequatur enim. Cor...   \n",
       "8  user-54-0009179  Magnam nulla esse placeat quos. Dolores nihil ...   \n",
       "9  user-81-0004613  Laborum sit doloribus earum cum. Dolore repudi...   \n",
       "\n",
       "                id              scores  \\\n",
       "0  idea-23-0003909        [None, 5, 2]   \n",
       "1  idea-95-0003507                 [2]   \n",
       "2  idea-62-0003354                 [1]   \n",
       "3  idea-76-0007706  [7, 1, 2, 8, 3, 5]   \n",
       "4  idea-21-0008511     [9, 6, 7, 8, 3]   \n",
       "5  idea-64-0007805           [None, 8]   \n",
       "6  idea-14-0007748        [None, 2, 0]   \n",
       "7  idea-92-0005095     [2, 9, 6, 2, 9]   \n",
       "8  idea-13-0000962                 [9]   \n",
       "9  idea-04-0007915           [5, 4, 8]   \n",
       "\n",
       "                                               title  \n",
       "0  Eius velit maiores molestiae error dolor odio ...  \n",
       "1  Iusto adipisci illo voluptatem vel assumenda sit.  \n",
       "2      Iure et ut dolor optio rerum et quod debitis.  \n",
       "3     Non tenetur earum provident repellat deserunt.  \n",
       "4  Vel impedit vel omnis minus possimus explicabo...  \n",
       "5                         Expedita sit vel vel quod.  \n",
       "6  Voluptate et assumenda ab et est sint recusandae.  \n",
       "7               Iusto et provident totam voluptatem.  \n",
       "8          Facilis quo rerum officiis dolorum eaque.  \n",
       "9      Magni magnam praesentium adipisci odio rerum.  "
      ]
     },
     "execution_count": 6,
     "metadata": {
     },
     "output_type": "execute_result"
    }
   ],
   "source": [
    "ideas_df = pd.read_json(\"./ideas.json\")\n",
    "ideas_df.head(10)"
   ]
  },
  {
   "cell_type": "code",
   "execution_count": 7,
   "metadata": {
    "colab": {
     "base_uri": "https://localhost:8080/",
     "height": 34
    },
    "colab_type": "code",
    "collapsed": false,
    "id": "3kfKDqd3odkw",
    "outputId": "f8f30640-2207-4f0d-89b6-82cbb8c6d751"
   },
   "outputs": [
    {
     "data": {
      "text/plain": [
       "[None, 5, 2]"
      ]
     },
     "execution_count": 7,
     "metadata": {
     },
     "output_type": "execute_result"
    }
   ],
   "source": [
    "# NOTE: There are some nil scores\n",
    "ideas_df.iloc[0]['scores']"
   ]
  },
  {
   "cell_type": "code",
   "execution_count": 8,
   "metadata": {
    "colab": {
     "base_uri": "https://localhost:8080/",
     "height": 194
    },
    "colab_type": "code",
    "collapsed": false,
    "id": "H1KHK_zKfvgI",
    "outputId": "fdbc970a-1903-403e-a3bf-cf8838e81825"
   },
   "outputs": [
    {
     "name": "stdout",
     "output_type": "stream",
     "text": [
      "<class 'pandas.core.frame.DataFrame'>\n",
      "RangeIndex: 700 entries, 0 to 699\n",
      "Data columns (total 5 columns):\n",
      "author-id    700 non-null object\n",
      "body         700 non-null object\n",
      "id           700 non-null object\n",
      "scores       700 non-null object\n",
      "title        700 non-null object\n",
      "dtypes: object(5)\n",
      "memory usage: 27.4+ KB\n"
     ]
    }
   ],
   "source": [
    "# General info about the dataset\n",
    "ideas_df.info()"
   ]
  },
  {
   "cell_type": "markdown",
   "metadata": {
    "colab_type": "text",
    "collapsed": false,
    "id": "Yjki6JvKf6vv"
   },
   "source": [
    "## Data Preparation"
   ]
  },
  {
   "cell_type": "markdown",
   "metadata": {
    "colab_type": "text",
    "collapsed": false,
    "id": "D6ZxygC6ngCX"
   },
   "source": [
    "#### ideas_df"
   ]
  },
  {
   "cell_type": "code",
   "execution_count": 9,
   "metadata": {
    "colab": {
     "base_uri": "https://localhost:8080/",
     "height": 123
    },
    "colab_type": "code",
    "collapsed": false,
    "id": "LJTYiTFqhJUn",
    "outputId": "73417fae-df46-4eaf-959f-e6992a23c30e"
   },
   "outputs": [
    {
     "data": {
      "text/plain": [
       "author-id    0\n",
       "body         0\n",
       "id           0\n",
       "scores       0\n",
       "title        0\n",
       "dtype: int64"
      ]
     },
     "execution_count": 9,
     "metadata": {
     },
     "output_type": "execute_result"
    }
   ],
   "source": [
    "# There are no nil values in ideas data\n",
    "ideas_df.isnull().sum()"
   ]
  },
  {
   "cell_type": "code",
   "execution_count": 10,
   "metadata": {
    "colab": {
    },
    "colab_type": "code",
    "collapsed": false,
    "id": "88N8JhKBm0pa"
   },
   "outputs": [
   ],
   "source": [
    "# Function to clean the `score` list from NA value\n",
    "def create_numeric_list(a_list):\n",
    "    if a_list == None:\n",
    "        return [0]\n",
    "    elif a_list == [None]:\n",
    "        return [0]\n",
    "    else:\n",
    "        return [n for n in a_list if type(n) == int ]\n",
    "\n",
    "# Function to calculate the average score for an idea\n",
    "def average_score(a_list):\n",
    "    return np.average(create_numeric_list(a_list))\n",
    "\n"
   ]
  },
  {
   "cell_type": "code",
   "execution_count": 11,
   "metadata": {
    "colab": {
     "base_uri": "https://localhost:8080/",
     "height": 547
    },
    "colab_type": "code",
    "collapsed": false,
    "id": "YKBH8HATnCp1",
    "outputId": "b20dd32d-9e0f-4bfa-9e37-bb6782b44548"
   },
   "outputs": [
    {
     "data": {
      "text/html": [
       "<div>\n",
       "<style scoped>\n",
       "    .dataframe tbody tr th:only-of-type {\n",
       "        vertical-align: middle;\n",
       "    }\n",
       "\n",
       "    .dataframe tbody tr th {\n",
       "        vertical-align: top;\n",
       "    }\n",
       "\n",
       "    .dataframe thead th {\n",
       "        text-align: right;\n",
       "    }\n",
       "</style>\n",
       "<table border=\"1\" class=\"dataframe\">\n",
       "  <thead>\n",
       "    <tr style=\"text-align: right;\">\n",
       "      <th></th>\n",
       "      <th>author-id</th>\n",
       "      <th>body</th>\n",
       "      <th>id</th>\n",
       "      <th>scores</th>\n",
       "      <th>title</th>\n",
       "      <th>average_score</th>\n",
       "    </tr>\n",
       "  </thead>\n",
       "  <tbody>\n",
       "    <tr>\n",
       "      <th>0</th>\n",
       "      <td>user-26-0005211</td>\n",
       "      <td>Omnis eum eos distinctio minima. Odio et natus...</td>\n",
       "      <td>idea-23-0003909</td>\n",
       "      <td>[None, 5, 2]</td>\n",
       "      <td>Eius velit maiores molestiae error dolor odio ...</td>\n",
       "      <td>3.500000</td>\n",
       "    </tr>\n",
       "    <tr>\n",
       "      <th>1</th>\n",
       "      <td>user-42-0007278</td>\n",
       "      <td>Eveniet voluptatum quis et at sed nesciunt fac...</td>\n",
       "      <td>idea-95-0003507</td>\n",
       "      <td>[2]</td>\n",
       "      <td>Iusto adipisci illo voluptatem vel assumenda sit.</td>\n",
       "      <td>2.000000</td>\n",
       "    </tr>\n",
       "    <tr>\n",
       "      <th>2</th>\n",
       "      <td>user-45-0005583</td>\n",
       "      <td>Ea voluptatem dicta delectus facere repellat v...</td>\n",
       "      <td>idea-62-0003354</td>\n",
       "      <td>[1]</td>\n",
       "      <td>Iure et ut dolor optio rerum et quod debitis.</td>\n",
       "      <td>1.000000</td>\n",
       "    </tr>\n",
       "    <tr>\n",
       "      <th>3</th>\n",
       "      <td>user-78-0008498</td>\n",
       "      <td>Necessitatibus deserunt iusto vitae autem occa...</td>\n",
       "      <td>idea-76-0007706</td>\n",
       "      <td>[7, 1, 2, 8, 3, 5]</td>\n",
       "      <td>Non tenetur earum provident repellat deserunt.</td>\n",
       "      <td>4.333333</td>\n",
       "    </tr>\n",
       "    <tr>\n",
       "      <th>4</th>\n",
       "      <td>user-23-0001583</td>\n",
       "      <td>Autem adipisci eos mollitia maiores sequi dolo...</td>\n",
       "      <td>idea-21-0008511</td>\n",
       "      <td>[9, 6, 7, 8, 3]</td>\n",
       "      <td>Vel impedit vel omnis minus possimus explicabo...</td>\n",
       "      <td>6.600000</td>\n",
       "    </tr>\n",
       "  </tbody>\n",
       "</table>\n",
       "</div>"
      ],
      "text/plain": [
       "         author-id                                               body  \\\n",
       "0  user-26-0005211  Omnis eum eos distinctio minima. Odio et natus...   \n",
       "1  user-42-0007278  Eveniet voluptatum quis et at sed nesciunt fac...   \n",
       "2  user-45-0005583  Ea voluptatem dicta delectus facere repellat v...   \n",
       "3  user-78-0008498  Necessitatibus deserunt iusto vitae autem occa...   \n",
       "4  user-23-0001583  Autem adipisci eos mollitia maiores sequi dolo...   \n",
       "\n",
       "                id              scores  \\\n",
       "0  idea-23-0003909        [None, 5, 2]   \n",
       "1  idea-95-0003507                 [2]   \n",
       "2  idea-62-0003354                 [1]   \n",
       "3  idea-76-0007706  [7, 1, 2, 8, 3, 5]   \n",
       "4  idea-21-0008511     [9, 6, 7, 8, 3]   \n",
       "\n",
       "                                               title  average_score  \n",
       "0  Eius velit maiores molestiae error dolor odio ...       3.500000  \n",
       "1  Iusto adipisci illo voluptatem vel assumenda sit.       2.000000  \n",
       "2      Iure et ut dolor optio rerum et quod debitis.       1.000000  \n",
       "3     Non tenetur earum provident repellat deserunt.       4.333333  \n",
       "4  Vel impedit vel omnis minus possimus explicabo...       6.600000  "
      ]
     },
     "execution_count": 11,
     "metadata": {
     },
     "output_type": "execute_result"
    }
   ],
   "source": [
    "# Add a new column to the dataset\n",
    "ideas_df['average_score'] =  ideas_df['scores'].apply(lambda x: average_score(x))\n",
    "ideas_df.head()"
   ]
  },
  {
   "cell_type": "code",
   "execution_count": 12,
   "metadata": {
    "colab": {
     "base_uri": "https://localhost:8080/",
     "height": 197
    },
    "colab_type": "code",
    "collapsed": false,
    "id": "-H7O-fPfnDwr",
    "outputId": "4e0efe95-b1ba-46b6-fa12-3eed3ae928b8"
   },
   "outputs": [
    {
     "data": {
      "text/html": [
       "<div>\n",
       "<style scoped>\n",
       "    .dataframe tbody tr th:only-of-type {\n",
       "        vertical-align: middle;\n",
       "    }\n",
       "\n",
       "    .dataframe tbody tr th {\n",
       "        vertical-align: top;\n",
       "    }\n",
       "\n",
       "    .dataframe thead th {\n",
       "        text-align: right;\n",
       "    }\n",
       "</style>\n",
       "<table border=\"1\" class=\"dataframe\">\n",
       "  <thead>\n",
       "    <tr style=\"text-align: right;\">\n",
       "      <th></th>\n",
       "      <th>author-id</th>\n",
       "      <th>body</th>\n",
       "      <th>id</th>\n",
       "      <th>title</th>\n",
       "      <th>average_score</th>\n",
       "    </tr>\n",
       "  </thead>\n",
       "  <tbody>\n",
       "    <tr>\n",
       "      <th>0</th>\n",
       "      <td>user-26-0005211</td>\n",
       "      <td>Omnis eum eos distinctio minima. Odio et natus...</td>\n",
       "      <td>idea-23-0003909</td>\n",
       "      <td>Eius velit maiores molestiae error dolor odio ...</td>\n",
       "      <td>3.500000</td>\n",
       "    </tr>\n",
       "    <tr>\n",
       "      <th>1</th>\n",
       "      <td>user-42-0007278</td>\n",
       "      <td>Eveniet voluptatum quis et at sed nesciunt fac...</td>\n",
       "      <td>idea-95-0003507</td>\n",
       "      <td>Iusto adipisci illo voluptatem vel assumenda sit.</td>\n",
       "      <td>2.000000</td>\n",
       "    </tr>\n",
       "    <tr>\n",
       "      <th>2</th>\n",
       "      <td>user-45-0005583</td>\n",
       "      <td>Ea voluptatem dicta delectus facere repellat v...</td>\n",
       "      <td>idea-62-0003354</td>\n",
       "      <td>Iure et ut dolor optio rerum et quod debitis.</td>\n",
       "      <td>1.000000</td>\n",
       "    </tr>\n",
       "    <tr>\n",
       "      <th>3</th>\n",
       "      <td>user-78-0008498</td>\n",
       "      <td>Necessitatibus deserunt iusto vitae autem occa...</td>\n",
       "      <td>idea-76-0007706</td>\n",
       "      <td>Non tenetur earum provident repellat deserunt.</td>\n",
       "      <td>4.333333</td>\n",
       "    </tr>\n",
       "    <tr>\n",
       "      <th>4</th>\n",
       "      <td>user-23-0001583</td>\n",
       "      <td>Autem adipisci eos mollitia maiores sequi dolo...</td>\n",
       "      <td>idea-21-0008511</td>\n",
       "      <td>Vel impedit vel omnis minus possimus explicabo...</td>\n",
       "      <td>6.600000</td>\n",
       "    </tr>\n",
       "  </tbody>\n",
       "</table>\n",
       "</div>"
      ],
      "text/plain": [
       "         author-id                                               body  \\\n",
       "0  user-26-0005211  Omnis eum eos distinctio minima. Odio et natus...   \n",
       "1  user-42-0007278  Eveniet voluptatum quis et at sed nesciunt fac...   \n",
       "2  user-45-0005583  Ea voluptatem dicta delectus facere repellat v...   \n",
       "3  user-78-0008498  Necessitatibus deserunt iusto vitae autem occa...   \n",
       "4  user-23-0001583  Autem adipisci eos mollitia maiores sequi dolo...   \n",
       "\n",
       "                id                                              title  \\\n",
       "0  idea-23-0003909  Eius velit maiores molestiae error dolor odio ...   \n",
       "1  idea-95-0003507  Iusto adipisci illo voluptatem vel assumenda sit.   \n",
       "2  idea-62-0003354      Iure et ut dolor optio rerum et quod debitis.   \n",
       "3  idea-76-0007706     Non tenetur earum provident repellat deserunt.   \n",
       "4  idea-21-0008511  Vel impedit vel omnis minus possimus explicabo...   \n",
       "\n",
       "   average_score  \n",
       "0       3.500000  \n",
       "1       2.000000  \n",
       "2       1.000000  \n",
       "3       4.333333  \n",
       "4       6.600000  "
      ]
     },
     "execution_count": 12,
     "metadata": {
     },
     "output_type": "execute_result"
    }
   ],
   "source": [
    "# Drop the original `scores` as it's not needed anymore\n",
    "ideas_df.drop(columns=['scores'], inplace=True)\n",
    "ideas_df.head()"
   ]
  },
  {
   "cell_type": "code",
   "execution_count": 13,
   "metadata": {
    "colab": {
     "base_uri": "https://localhost:8080/",
     "height": 197
    },
    "colab_type": "code",
    "collapsed": false,
    "id": "xzXFI8m7ipzv",
    "outputId": "0f2ba77f-f740-4cc9-ab15-f6a9dc012d2d"
   },
   "outputs": [
    {
     "data": {
      "text/html": [
       "<div>\n",
       "<style scoped>\n",
       "    .dataframe tbody tr th:only-of-type {\n",
       "        vertical-align: middle;\n",
       "    }\n",
       "\n",
       "    .dataframe tbody tr th {\n",
       "        vertical-align: top;\n",
       "    }\n",
       "\n",
       "    .dataframe thead th {\n",
       "        text-align: right;\n",
       "    }\n",
       "</style>\n",
       "<table border=\"1\" class=\"dataframe\">\n",
       "  <thead>\n",
       "    <tr style=\"text-align: right;\">\n",
       "      <th></th>\n",
       "      <th>author-id</th>\n",
       "      <th>body</th>\n",
       "      <th>id</th>\n",
       "      <th>title</th>\n",
       "      <th>average_score</th>\n",
       "    </tr>\n",
       "  </thead>\n",
       "  <tbody>\n",
       "    <tr>\n",
       "      <th>0</th>\n",
       "      <td>user-26-0005211</td>\n",
       "      <td>Omnis eum eos distinctio minima. Odio et natus...</td>\n",
       "      <td>idea-23-0003909</td>\n",
       "      <td>Eius velit maiores molestiae error dolor odio ...</td>\n",
       "      <td>3.500000</td>\n",
       "    </tr>\n",
       "    <tr>\n",
       "      <th>1</th>\n",
       "      <td>user-42-0007278</td>\n",
       "      <td>Eveniet voluptatum quis et at sed nesciunt fac...</td>\n",
       "      <td>idea-95-0003507</td>\n",
       "      <td>Iusto adipisci illo voluptatem vel assumenda sit.</td>\n",
       "      <td>2.000000</td>\n",
       "    </tr>\n",
       "    <tr>\n",
       "      <th>2</th>\n",
       "      <td>user-45-0005583</td>\n",
       "      <td>Ea voluptatem dicta delectus facere repellat v...</td>\n",
       "      <td>idea-62-0003354</td>\n",
       "      <td>Iure et ut dolor optio rerum et quod debitis.</td>\n",
       "      <td>1.000000</td>\n",
       "    </tr>\n",
       "    <tr>\n",
       "      <th>3</th>\n",
       "      <td>user-78-0008498</td>\n",
       "      <td>Necessitatibus deserunt iusto vitae autem occa...</td>\n",
       "      <td>idea-76-0007706</td>\n",
       "      <td>Non tenetur earum provident repellat deserunt.</td>\n",
       "      <td>4.333333</td>\n",
       "    </tr>\n",
       "    <tr>\n",
       "      <th>4</th>\n",
       "      <td>user-23-0001583</td>\n",
       "      <td>Autem adipisci eos mollitia maiores sequi dolo...</td>\n",
       "      <td>idea-21-0008511</td>\n",
       "      <td>Vel impedit vel omnis minus possimus explicabo...</td>\n",
       "      <td>6.600000</td>\n",
       "    </tr>\n",
       "  </tbody>\n",
       "</table>\n",
       "</div>"
      ],
      "text/plain": [
       "         author-id                                               body  \\\n",
       "0  user-26-0005211  Omnis eum eos distinctio minima. Odio et natus...   \n",
       "1  user-42-0007278  Eveniet voluptatum quis et at sed nesciunt fac...   \n",
       "2  user-45-0005583  Ea voluptatem dicta delectus facere repellat v...   \n",
       "3  user-78-0008498  Necessitatibus deserunt iusto vitae autem occa...   \n",
       "4  user-23-0001583  Autem adipisci eos mollitia maiores sequi dolo...   \n",
       "\n",
       "                id                                              title  \\\n",
       "0  idea-23-0003909  Eius velit maiores molestiae error dolor odio ...   \n",
       "1  idea-95-0003507  Iusto adipisci illo voluptatem vel assumenda sit.   \n",
       "2  idea-62-0003354      Iure et ut dolor optio rerum et quod debitis.   \n",
       "3  idea-76-0007706     Non tenetur earum provident repellat deserunt.   \n",
       "4  idea-21-0008511  Vel impedit vel omnis minus possimus explicabo...   \n",
       "\n",
       "   average_score  \n",
       "0       3.500000  \n",
       "1       2.000000  \n",
       "2       1.000000  \n",
       "3       4.333333  \n",
       "4       6.600000  "
      ]
     },
     "execution_count": 13,
     "metadata": {
     },
     "output_type": "execute_result"
    }
   ],
   "source": [
    "# Keep only ideas with `average_score` more than 0 and drop the rest\n",
    "ideas_df = ideas_df[ideas_df['average_score'] != 0]\n",
    "ideas_df.head()"
   ]
  },
  {
   "cell_type": "code",
   "execution_count": 14,
   "metadata": {
    "colab": {
     "base_uri": "https://localhost:8080/",
     "height": 194
    },
    "colab_type": "code",
    "collapsed": false,
    "id": "DXLba1npl9FN",
    "outputId": "89edc378-f697-4109-9e95-03afab2badca"
   },
   "outputs": [
    {
     "name": "stdout",
     "output_type": "stream",
     "text": [
      "<class 'pandas.core.frame.DataFrame'>\n",
      "Int64Index: 672 entries, 0 to 699\n",
      "Data columns (total 5 columns):\n",
      "author-id        672 non-null object\n",
      "body             672 non-null object\n",
      "id               672 non-null object\n",
      "title            672 non-null object\n",
      "average_score    672 non-null float64\n",
      "dtypes: float64(1), object(4)\n",
      "memory usage: 31.5+ KB\n"
     ]
    }
   ],
   "source": [
    "# General info for the `ideas_df` in it's current state\n",
    "ideas_df.info()"
   ]
  },
  {
   "cell_type": "markdown",
   "metadata": {
    "colab_type": "text",
    "collapsed": false,
    "id": "bj-RlbYeogT8"
   },
   "source": [
    "#### `users_df`"
   ]
  },
  {
   "cell_type": "code",
   "execution_count": 15,
   "metadata": {
    "colab": {
     "base_uri": "https://localhost:8080/",
     "height": 123
    },
    "colab_type": "code",
    "collapsed": false,
    "id": "pke000auhF0A",
    "outputId": "20c3ca1d-6590-4911-ed6a-3950c328b26d"
   },
   "outputs": [
    {
     "data": {
      "text/plain": [
       "email      0\n",
       "fname      0\n",
       "house    170\n",
       "id         0\n",
       "lname      0\n",
       "dtype: int64"
      ]
     },
     "execution_count": 15,
     "metadata": {
     },
     "output_type": "execute_result"
    }
   ],
   "source": [
    "# Some people don't have an associated `house`\n",
    "users_df.isnull().sum()"
   ]
  },
  {
   "cell_type": "code",
   "execution_count": 16,
   "metadata": {
    "colab": {
     "base_uri": "https://localhost:8080/",
     "height": 197
    },
    "colab_type": "code",
    "collapsed": false,
    "id": "vhCyvSeel1Ph",
    "outputId": "9ded01ad-c1ee-4ea9-a4fd-0559ea096faf"
   },
   "outputs": [
    {
     "data": {
      "text/html": [
       "<div>\n",
       "<style scoped>\n",
       "    .dataframe tbody tr th:only-of-type {\n",
       "        vertical-align: middle;\n",
       "    }\n",
       "\n",
       "    .dataframe tbody tr th {\n",
       "        vertical-align: top;\n",
       "    }\n",
       "\n",
       "    .dataframe thead th {\n",
       "        text-align: right;\n",
       "    }\n",
       "</style>\n",
       "<table border=\"1\" class=\"dataframe\">\n",
       "  <thead>\n",
       "    <tr style=\"text-align: right;\">\n",
       "      <th></th>\n",
       "      <th>email</th>\n",
       "      <th>fname</th>\n",
       "      <th>house</th>\n",
       "      <th>id</th>\n",
       "      <th>lname</th>\n",
       "    </tr>\n",
       "  </thead>\n",
       "  <tbody>\n",
       "    <tr>\n",
       "      <th>0</th>\n",
       "      <td>annabelle75@me.com</td>\n",
       "      <td>Olivia</td>\n",
       "      <td>FreeFolk</td>\n",
       "      <td>user-32-0008735</td>\n",
       "      <td>Raymond</td>\n",
       "    </tr>\n",
       "    <tr>\n",
       "      <th>1</th>\n",
       "      <td>taylor@me.com</td>\n",
       "      <td>Sebastian</td>\n",
       "      <td>Lannister</td>\n",
       "      <td>user-76-0007445</td>\n",
       "      <td>Meyer</td>\n",
       "    </tr>\n",
       "    <tr>\n",
       "      <th>2</th>\n",
       "      <td>britt@hotmail.com</td>\n",
       "      <td>Aiden</td>\n",
       "      <td>FreeFolk</td>\n",
       "      <td>user-06-0008566</td>\n",
       "      <td>Howell</td>\n",
       "    </tr>\n",
       "    <tr>\n",
       "      <th>3</th>\n",
       "      <td>easton@gmail.com</td>\n",
       "      <td>Jocelyn</td>\n",
       "      <td>FreeFolk</td>\n",
       "      <td>user-74-0003086</td>\n",
       "      <td>Mitchell</td>\n",
       "    </tr>\n",
       "    <tr>\n",
       "      <th>4</th>\n",
       "      <td>carpenter@hotmail.com</td>\n",
       "      <td>Jack</td>\n",
       "      <td>Tully</td>\n",
       "      <td>user-30-0007697</td>\n",
       "      <td>Crane</td>\n",
       "    </tr>\n",
       "  </tbody>\n",
       "</table>\n",
       "</div>"
      ],
      "text/plain": [
       "                   email      fname      house               id     lname\n",
       "0     annabelle75@me.com     Olivia   FreeFolk  user-32-0008735   Raymond\n",
       "1          taylor@me.com  Sebastian  Lannister  user-76-0007445     Meyer\n",
       "2      britt@hotmail.com      Aiden   FreeFolk  user-06-0008566    Howell\n",
       "3       easton@gmail.com    Jocelyn   FreeFolk  user-74-0003086  Mitchell\n",
       "4  carpenter@hotmail.com       Jack      Tully  user-30-0007697     Crane"
      ]
     },
     "execution_count": 16,
     "metadata": {
     },
     "output_type": "execute_result"
    }
   ],
   "source": [
    "# Assign FreeFolk to people whith no house\n",
    "users_df['house'].fillna(\"FreeFolk\", inplace=True)\n",
    "users_df.head()"
   ]
  },
  {
   "cell_type": "code",
   "execution_count": 17,
   "metadata": {
    "colab": {
     "base_uri": "https://localhost:8080/",
     "height": 197
    },
    "colab_type": "code",
    "collapsed": false,
    "id": "P51n5KXymWP-",
    "outputId": "85b4114d-4226-431c-dc38-31255dfa2645"
   },
   "outputs": [
    {
     "data": {
      "text/html": [
       "<div>\n",
       "<style scoped>\n",
       "    .dataframe tbody tr th:only-of-type {\n",
       "        vertical-align: middle;\n",
       "    }\n",
       "\n",
       "    .dataframe tbody tr th {\n",
       "        vertical-align: top;\n",
       "    }\n",
       "\n",
       "    .dataframe thead th {\n",
       "        text-align: right;\n",
       "    }\n",
       "</style>\n",
       "<table border=\"1\" class=\"dataframe\">\n",
       "  <thead>\n",
       "    <tr style=\"text-align: right;\">\n",
       "      <th></th>\n",
       "      <th>email</th>\n",
       "      <th>fname</th>\n",
       "      <th>house</th>\n",
       "      <th>author-id</th>\n",
       "      <th>lname</th>\n",
       "    </tr>\n",
       "  </thead>\n",
       "  <tbody>\n",
       "    <tr>\n",
       "      <th>0</th>\n",
       "      <td>annabelle75@me.com</td>\n",
       "      <td>Olivia</td>\n",
       "      <td>FreeFolk</td>\n",
       "      <td>user-32-0008735</td>\n",
       "      <td>Raymond</td>\n",
       "    </tr>\n",
       "    <tr>\n",
       "      <th>1</th>\n",
       "      <td>taylor@me.com</td>\n",
       "      <td>Sebastian</td>\n",
       "      <td>Lannister</td>\n",
       "      <td>user-76-0007445</td>\n",
       "      <td>Meyer</td>\n",
       "    </tr>\n",
       "    <tr>\n",
       "      <th>2</th>\n",
       "      <td>britt@hotmail.com</td>\n",
       "      <td>Aiden</td>\n",
       "      <td>FreeFolk</td>\n",
       "      <td>user-06-0008566</td>\n",
       "      <td>Howell</td>\n",
       "    </tr>\n",
       "    <tr>\n",
       "      <th>3</th>\n",
       "      <td>easton@gmail.com</td>\n",
       "      <td>Jocelyn</td>\n",
       "      <td>FreeFolk</td>\n",
       "      <td>user-74-0003086</td>\n",
       "      <td>Mitchell</td>\n",
       "    </tr>\n",
       "    <tr>\n",
       "      <th>4</th>\n",
       "      <td>carpenter@hotmail.com</td>\n",
       "      <td>Jack</td>\n",
       "      <td>Tully</td>\n",
       "      <td>user-30-0007697</td>\n",
       "      <td>Crane</td>\n",
       "    </tr>\n",
       "  </tbody>\n",
       "</table>\n",
       "</div>"
      ],
      "text/plain": [
       "                   email      fname      house        author-id     lname\n",
       "0     annabelle75@me.com     Olivia   FreeFolk  user-32-0008735   Raymond\n",
       "1          taylor@me.com  Sebastian  Lannister  user-76-0007445     Meyer\n",
       "2      britt@hotmail.com      Aiden   FreeFolk  user-06-0008566    Howell\n",
       "3       easton@gmail.com    Jocelyn   FreeFolk  user-74-0003086  Mitchell\n",
       "4  carpenter@hotmail.com       Jack      Tully  user-30-0007697     Crane"
      ]
     },
     "execution_count": 17,
     "metadata": {
     },
     "output_type": "execute_result"
    }
   ],
   "source": [
    "# Rename the `id` column to `author-id` for consistency with the `ideas_df` column names\n",
    "users_df.rename(columns={'id':'author-id'}, inplace=True)\n",
    "users_df.head()\n"
   ]
  },
  {
   "cell_type": "code",
   "execution_count": 18,
   "metadata": {
    "colab": {
    },
    "colab_type": "code",
    "collapsed": false,
    "id": "ACBePNaQnmoN"
   },
   "outputs": [
   ],
   "source": [
    "# Function to check for authors with multiple houses\n",
    "def in_multiple_houses(x):\n",
    "    if type(x) == list :\n",
    "        return True\n",
    "    else:\n",
    "        return False\n"
   ]
  },
  {
   "cell_type": "code",
   "execution_count": 19,
   "metadata": {
    "colab": {
     "base_uri": "https://localhost:8080/",
     "height": 197
    },
    "colab_type": "code",
    "collapsed": false,
    "id": "3TeDLsPcN52b",
    "outputId": "66f587a0-30dc-4e69-bf80-e1b87d291517"
   },
   "outputs": [
    {
     "data": {
      "text/html": [
       "<div>\n",
       "<style scoped>\n",
       "    .dataframe tbody tr th:only-of-type {\n",
       "        vertical-align: middle;\n",
       "    }\n",
       "\n",
       "    .dataframe tbody tr th {\n",
       "        vertical-align: top;\n",
       "    }\n",
       "\n",
       "    .dataframe thead th {\n",
       "        text-align: right;\n",
       "    }\n",
       "</style>\n",
       "<table border=\"1\" class=\"dataframe\">\n",
       "  <thead>\n",
       "    <tr style=\"text-align: right;\">\n",
       "      <th></th>\n",
       "      <th>email</th>\n",
       "      <th>fname</th>\n",
       "      <th>house</th>\n",
       "      <th>author-id</th>\n",
       "      <th>lname</th>\n",
       "    </tr>\n",
       "  </thead>\n",
       "  <tbody>\n",
       "    <tr>\n",
       "      <th>8</th>\n",
       "      <td>aaron638@me.com</td>\n",
       "      <td>Aaliyah</td>\n",
       "      <td>[Lannister, Greyjoy]</td>\n",
       "      <td>user-20-0004583</td>\n",
       "      <td>Ware</td>\n",
       "    </tr>\n",
       "    <tr>\n",
       "      <th>10</th>\n",
       "      <td>ian.hawkins@gmail.com</td>\n",
       "      <td>London</td>\n",
       "      <td>[Targaryen, Greyjoy]</td>\n",
       "      <td>user-86-0004472</td>\n",
       "      <td>Rosales</td>\n",
       "    </tr>\n",
       "    <tr>\n",
       "      <th>11</th>\n",
       "      <td>ryder.bender@me.com</td>\n",
       "      <td>Aubree</td>\n",
       "      <td>[Baratheon, Lannister]</td>\n",
       "      <td>user-84-0006286</td>\n",
       "      <td>Hart</td>\n",
       "    </tr>\n",
       "    <tr>\n",
       "      <th>24</th>\n",
       "      <td>sweeney@yahoo.com</td>\n",
       "      <td>Brandon</td>\n",
       "      <td>[Baratheon, Tyrell]</td>\n",
       "      <td>user-81-0009552</td>\n",
       "      <td>Douglas</td>\n",
       "    </tr>\n",
       "    <tr>\n",
       "      <th>25</th>\n",
       "      <td>mcdowell@hotmail.com</td>\n",
       "      <td>Gabriel</td>\n",
       "      <td>[Stark, Targaryen]</td>\n",
       "      <td>user-31-0000558</td>\n",
       "      <td>Madden</td>\n",
       "    </tr>\n",
       "  </tbody>\n",
       "</table>\n",
       "</div>"
      ],
      "text/plain": [
       "                    email    fname                   house        author-id  \\\n",
       "8         aaron638@me.com  Aaliyah    [Lannister, Greyjoy]  user-20-0004583   \n",
       "10  ian.hawkins@gmail.com   London    [Targaryen, Greyjoy]  user-86-0004472   \n",
       "11    ryder.bender@me.com   Aubree  [Baratheon, Lannister]  user-84-0006286   \n",
       "24      sweeney@yahoo.com  Brandon     [Baratheon, Tyrell]  user-81-0009552   \n",
       "25   mcdowell@hotmail.com  Gabriel      [Stark, Targaryen]  user-31-0000558   \n",
       "\n",
       "      lname  \n",
       "8      Ware  \n",
       "10  Rosales  \n",
       "11     Hart  \n",
       "24  Douglas  \n",
       "25   Madden  "
      ]
     },
     "execution_count": 19,
     "metadata": {
     },
     "output_type": "execute_result"
    }
   ],
   "source": [
    "# Separate the users who belong to more than one house\n",
    "users_with_double_house = users_df[users_df['house'].map(in_multiple_houses) == True]\n",
    "users_with_double_house.head()"
   ]
  },
  {
   "cell_type": "code",
   "execution_count": 20,
   "metadata": {
    "colab": {
     "base_uri": "https://localhost:8080/",
     "height": 194
    },
    "colab_type": "code",
    "collapsed": false,
    "id": "Re-WRIsDriyc",
    "outputId": "807c8237-114f-42bb-d048-f9e68ee308a0"
   },
   "outputs": [
    {
     "name": "stdout",
     "output_type": "stream",
     "text": [
      "<class 'pandas.core.frame.DataFrame'>\n",
      "Int64Index: 140 entries, 8 to 499\n",
      "Data columns (total 5 columns):\n",
      "email        140 non-null object\n",
      "fname        140 non-null object\n",
      "house        140 non-null object\n",
      "author-id    140 non-null object\n",
      "lname        140 non-null object\n",
      "dtypes: object(5)\n",
      "memory usage: 6.6+ KB\n"
     ]
    }
   ],
   "source": [
    "# Info about users belonging to double houses\n",
    "users_with_double_house.info()"
   ]
  },
  {
   "cell_type": "code",
   "execution_count": 21,
   "metadata": {
    "colab": {
     "base_uri": "https://localhost:8080/",
     "height": 197
    },
    "colab_type": "code",
    "collapsed": false,
    "id": "tf27mZXC5yH6",
    "outputId": "532092cd-ff96-455d-8971-343c6784289a"
   },
   "outputs": [
    {
     "data": {
      "text/html": [
       "<div>\n",
       "<style scoped>\n",
       "    .dataframe tbody tr th:only-of-type {\n",
       "        vertical-align: middle;\n",
       "    }\n",
       "\n",
       "    .dataframe tbody tr th {\n",
       "        vertical-align: top;\n",
       "    }\n",
       "\n",
       "    .dataframe thead th {\n",
       "        text-align: right;\n",
       "    }\n",
       "</style>\n",
       "<table border=\"1\" class=\"dataframe\">\n",
       "  <thead>\n",
       "    <tr style=\"text-align: right;\">\n",
       "      <th></th>\n",
       "      <th>email</th>\n",
       "      <th>fname</th>\n",
       "      <th>house</th>\n",
       "      <th>author-id</th>\n",
       "      <th>lname</th>\n",
       "    </tr>\n",
       "  </thead>\n",
       "  <tbody>\n",
       "    <tr>\n",
       "      <th>0</th>\n",
       "      <td>annabelle75@me.com</td>\n",
       "      <td>Olivia</td>\n",
       "      <td>FreeFolk</td>\n",
       "      <td>user-32-0008735</td>\n",
       "      <td>Raymond</td>\n",
       "    </tr>\n",
       "    <tr>\n",
       "      <th>1</th>\n",
       "      <td>taylor@me.com</td>\n",
       "      <td>Sebastian</td>\n",
       "      <td>Lannister</td>\n",
       "      <td>user-76-0007445</td>\n",
       "      <td>Meyer</td>\n",
       "    </tr>\n",
       "    <tr>\n",
       "      <th>2</th>\n",
       "      <td>britt@hotmail.com</td>\n",
       "      <td>Aiden</td>\n",
       "      <td>FreeFolk</td>\n",
       "      <td>user-06-0008566</td>\n",
       "      <td>Howell</td>\n",
       "    </tr>\n",
       "    <tr>\n",
       "      <th>3</th>\n",
       "      <td>easton@gmail.com</td>\n",
       "      <td>Jocelyn</td>\n",
       "      <td>FreeFolk</td>\n",
       "      <td>user-74-0003086</td>\n",
       "      <td>Mitchell</td>\n",
       "    </tr>\n",
       "    <tr>\n",
       "      <th>4</th>\n",
       "      <td>carpenter@hotmail.com</td>\n",
       "      <td>Jack</td>\n",
       "      <td>Tully</td>\n",
       "      <td>user-30-0007697</td>\n",
       "      <td>Crane</td>\n",
       "    </tr>\n",
       "  </tbody>\n",
       "</table>\n",
       "</div>"
      ],
      "text/plain": [
       "                   email      fname      house        author-id     lname\n",
       "0     annabelle75@me.com     Olivia   FreeFolk  user-32-0008735   Raymond\n",
       "1          taylor@me.com  Sebastian  Lannister  user-76-0007445     Meyer\n",
       "2      britt@hotmail.com      Aiden   FreeFolk  user-06-0008566    Howell\n",
       "3       easton@gmail.com    Jocelyn   FreeFolk  user-74-0003086  Mitchell\n",
       "4  carpenter@hotmail.com       Jack      Tully  user-30-0007697     Crane"
      ]
     },
     "execution_count": 21,
     "metadata": {
     },
     "output_type": "execute_result"
    }
   ],
   "source": [
    "# Separate the users who only belong to a single house\n",
    "users_with_single_house = users_df[users_df['house'].map(in_multiple_houses) == False]\n",
    "users_with_single_house.head()"
   ]
  },
  {
   "cell_type": "code",
   "execution_count": 22,
   "metadata": {
    "colab": {
     "base_uri": "https://localhost:8080/",
     "height": 194
    },
    "colab_type": "code",
    "collapsed": false,
    "id": "SSPGpW8zreyN",
    "outputId": "99a7ea37-8f36-4cf4-d9c2-0a8e04b241af"
   },
   "outputs": [
    {
     "name": "stdout",
     "output_type": "stream",
     "text": [
      "<class 'pandas.core.frame.DataFrame'>\n",
      "Int64Index: 360 entries, 0 to 498\n",
      "Data columns (total 5 columns):\n",
      "email        360 non-null object\n",
      "fname        360 non-null object\n",
      "house        360 non-null object\n",
      "author-id    360 non-null object\n",
      "lname        360 non-null object\n",
      "dtypes: object(5)\n",
      "memory usage: 16.9+ KB\n"
     ]
    }
   ],
   "source": [
    "# 360 users belong to a single house\n",
    "users_with_single_house.info()"
   ]
  },
  {
   "cell_type": "code",
   "execution_count": 23,
   "metadata": {
    "colab": {
    },
    "colab_type": "code",
    "collapsed": false,
    "id": "v5OKbgLWP-yF"
   },
   "outputs": [
   ],
   "source": [
    "# A function which takes the pd.Series of a user with 2 houses and normalizes them \\\n",
    "# in 2 pd.Series with a single house\n",
    "\n",
    "def split_double_houses(a_series):\n",
    "  a_data_dict = a_series.to_dict()\n",
    "  var = []\n",
    "  houses = a_data_dict['house']\n",
    "  var.append(a_data_dict.copy())\n",
    "  var[0]['house'] = houses[0]\n",
    "  var.append(a_data_dict.copy())\n",
    "  var[1]['house'] = houses[1]\n",
    "  temp =  pd.DataFrame([pd.Series(var[0], index=a_series.index), \\\n",
    "                        pd.Series(var[1], index=a_series.index)], \\\n",
    "                       columns= a_series.index)\n",
    "  return temp\n",
    "\n"
   ]
  },
  {
   "cell_type": "code",
   "execution_count": 24,
   "metadata": {
    "colab": {
     "base_uri": "https://localhost:8080/",
     "height": 197
    },
    "colab_type": "code",
    "collapsed": false,
    "id": "O6_A0hOFQCdH",
    "outputId": "9206f37a-6566-41e1-940d-38ef8ab9631a"
   },
   "outputs": [
    {
     "data": {
      "text/html": [
       "<div>\n",
       "<style scoped>\n",
       "    .dataframe tbody tr th:only-of-type {\n",
       "        vertical-align: middle;\n",
       "    }\n",
       "\n",
       "    .dataframe tbody tr th {\n",
       "        vertical-align: top;\n",
       "    }\n",
       "\n",
       "    .dataframe thead th {\n",
       "        text-align: right;\n",
       "    }\n",
       "</style>\n",
       "<table border=\"1\" class=\"dataframe\">\n",
       "  <thead>\n",
       "    <tr style=\"text-align: right;\">\n",
       "      <th></th>\n",
       "      <th>email</th>\n",
       "      <th>fname</th>\n",
       "      <th>house</th>\n",
       "      <th>author-id</th>\n",
       "      <th>lname</th>\n",
       "    </tr>\n",
       "  </thead>\n",
       "  <tbody>\n",
       "    <tr>\n",
       "      <th>0</th>\n",
       "      <td>aaron638@me.com</td>\n",
       "      <td>Aaliyah</td>\n",
       "      <td>Lannister</td>\n",
       "      <td>user-20-0004583</td>\n",
       "      <td>Ware</td>\n",
       "    </tr>\n",
       "    <tr>\n",
       "      <th>1</th>\n",
       "      <td>aaron638@me.com</td>\n",
       "      <td>Aaliyah</td>\n",
       "      <td>Greyjoy</td>\n",
       "      <td>user-20-0004583</td>\n",
       "      <td>Ware</td>\n",
       "    </tr>\n",
       "    <tr>\n",
       "      <th>0</th>\n",
       "      <td>ian.hawkins@gmail.com</td>\n",
       "      <td>London</td>\n",
       "      <td>Targaryen</td>\n",
       "      <td>user-86-0004472</td>\n",
       "      <td>Rosales</td>\n",
       "    </tr>\n",
       "    <tr>\n",
       "      <th>1</th>\n",
       "      <td>ian.hawkins@gmail.com</td>\n",
       "      <td>London</td>\n",
       "      <td>Greyjoy</td>\n",
       "      <td>user-86-0004472</td>\n",
       "      <td>Rosales</td>\n",
       "    </tr>\n",
       "    <tr>\n",
       "      <th>0</th>\n",
       "      <td>ryder.bender@me.com</td>\n",
       "      <td>Aubree</td>\n",
       "      <td>Baratheon</td>\n",
       "      <td>user-84-0006286</td>\n",
       "      <td>Hart</td>\n",
       "    </tr>\n",
       "  </tbody>\n",
       "</table>\n",
       "</div>"
      ],
      "text/plain": [
       "                   email    fname      house        author-id    lname\n",
       "0        aaron638@me.com  Aaliyah  Lannister  user-20-0004583     Ware\n",
       "1        aaron638@me.com  Aaliyah    Greyjoy  user-20-0004583     Ware\n",
       "0  ian.hawkins@gmail.com   London  Targaryen  user-86-0004472  Rosales\n",
       "1  ian.hawkins@gmail.com   London    Greyjoy  user-86-0004472  Rosales\n",
       "0    ryder.bender@me.com   Aubree  Baratheon  user-84-0006286     Hart"
      ]
     },
     "execution_count": 24,
     "metadata": {
     },
     "output_type": "execute_result"
    }
   ],
   "source": [
    "# Create a new normalized dataframe containing using the `split_double_houses` functions on `users_with_double_houses` dataframe\n",
    "\n",
    "normalized_users_with_double_houses = pd.DataFrame()\n",
    "\n",
    "for index, row in users_with_double_house.iterrows():\n",
    "    normalized_users_with_double_houses = normalized_users_with_double_houses.append(split_double_houses(row))\n",
    "\n",
    "normalized_users_with_double_houses.head()"
   ]
  },
  {
   "cell_type": "code",
   "execution_count": 25,
   "metadata": {
    "colab": {
     "base_uri": "https://localhost:8080/",
     "height": 197
    },
    "colab_type": "code",
    "collapsed": false,
    "id": "phwm5IKyqiE1",
    "outputId": "6a98240f-cc39-4f2c-8aa4-b48a2528c563"
   },
   "outputs": [
    {
     "data": {
      "text/html": [
       "<div>\n",
       "<style scoped>\n",
       "    .dataframe tbody tr th:only-of-type {\n",
       "        vertical-align: middle;\n",
       "    }\n",
       "\n",
       "    .dataframe tbody tr th {\n",
       "        vertical-align: top;\n",
       "    }\n",
       "\n",
       "    .dataframe thead th {\n",
       "        text-align: right;\n",
       "    }\n",
       "</style>\n",
       "<table border=\"1\" class=\"dataframe\">\n",
       "  <thead>\n",
       "    <tr style=\"text-align: right;\">\n",
       "      <th></th>\n",
       "      <th>email</th>\n",
       "      <th>fname</th>\n",
       "      <th>house</th>\n",
       "      <th>author-id</th>\n",
       "      <th>lname</th>\n",
       "    </tr>\n",
       "  </thead>\n",
       "  <tbody>\n",
       "    <tr>\n",
       "      <th>0</th>\n",
       "      <td>annabelle75@me.com</td>\n",
       "      <td>Olivia</td>\n",
       "      <td>FreeFolk</td>\n",
       "      <td>user-32-0008735</td>\n",
       "      <td>Raymond</td>\n",
       "    </tr>\n",
       "    <tr>\n",
       "      <th>1</th>\n",
       "      <td>taylor@me.com</td>\n",
       "      <td>Sebastian</td>\n",
       "      <td>Lannister</td>\n",
       "      <td>user-76-0007445</td>\n",
       "      <td>Meyer</td>\n",
       "    </tr>\n",
       "    <tr>\n",
       "      <th>2</th>\n",
       "      <td>britt@hotmail.com</td>\n",
       "      <td>Aiden</td>\n",
       "      <td>FreeFolk</td>\n",
       "      <td>user-06-0008566</td>\n",
       "      <td>Howell</td>\n",
       "    </tr>\n",
       "    <tr>\n",
       "      <th>3</th>\n",
       "      <td>easton@gmail.com</td>\n",
       "      <td>Jocelyn</td>\n",
       "      <td>FreeFolk</td>\n",
       "      <td>user-74-0003086</td>\n",
       "      <td>Mitchell</td>\n",
       "    </tr>\n",
       "    <tr>\n",
       "      <th>4</th>\n",
       "      <td>carpenter@hotmail.com</td>\n",
       "      <td>Jack</td>\n",
       "      <td>Tully</td>\n",
       "      <td>user-30-0007697</td>\n",
       "      <td>Crane</td>\n",
       "    </tr>\n",
       "  </tbody>\n",
       "</table>\n",
       "</div>"
      ],
      "text/plain": [
       "                   email      fname      house        author-id     lname\n",
       "0     annabelle75@me.com     Olivia   FreeFolk  user-32-0008735   Raymond\n",
       "1          taylor@me.com  Sebastian  Lannister  user-76-0007445     Meyer\n",
       "2      britt@hotmail.com      Aiden   FreeFolk  user-06-0008566    Howell\n",
       "3       easton@gmail.com    Jocelyn   FreeFolk  user-74-0003086  Mitchell\n",
       "4  carpenter@hotmail.com       Jack      Tully  user-30-0007697     Crane"
      ]
     },
     "execution_count": 25,
     "metadata": {
     },
     "output_type": "execute_result"
    }
   ],
   "source": [
    "# Create a new dataframe with only one individual per house\n",
    "final_users_df = pd.concat([users_with_single_house, normalized_users_with_double_houses])\n",
    "final_users_df.head()\n"
   ]
  },
  {
   "cell_type": "code",
   "execution_count": 26,
   "metadata": {
    "colab": {
     "base_uri": "https://localhost:8080/",
     "height": 194
    },
    "colab_type": "code",
    "collapsed": false,
    "id": "M43WKaFcw_5c",
    "outputId": "51533d45-4c07-43a0-dbe3-a51a7c267ff2"
   },
   "outputs": [
    {
     "name": "stdout",
     "output_type": "stream",
     "text": [
      "<class 'pandas.core.frame.DataFrame'>\n",
      "Int64Index: 640 entries, 0 to 1\n",
      "Data columns (total 5 columns):\n",
      "email        640 non-null object\n",
      "fname        640 non-null object\n",
      "house        640 non-null object\n",
      "author-id    640 non-null object\n",
      "lname        640 non-null object\n",
      "dtypes: object(5)\n",
      "memory usage: 30.0+ KB\n"
     ]
    }
   ],
   "source": [
    "# General info for the finalized users dataframe\n",
    "final_users_df.info()"
   ]
  },
  {
   "cell_type": "markdown",
   "metadata": {
    "colab_type": "text",
    "collapsed": false,
    "id": "T7CnF-UrnnB2"
   },
   "source": [
    "## Analysis"
   ]
  },
  {
   "cell_type": "markdown",
   "metadata": {
    "colab_type": "text",
    "collapsed": false,
    "id": "uo4sO_XPl5vi"
   },
   "source": [
    "\n",
    "### Number of ideas that people have contributed in the competition"
   ]
  },
  {
   "cell_type": "code",
   "execution_count": 27,
   "metadata": {
    "colab": {
     "base_uri": "https://localhost:8080/",
     "height": 517
    },
    "colab_type": "code",
    "collapsed": false,
    "id": "2BI6SAamb2VN",
    "outputId": "f190ef74-fcb3-4b7d-a05d-06f6fc9b8c1a"
   },
   "outputs": [
    {
     "data": {
      "text/plain": [
       "<matplotlib.axes._subplots.AxesSubplot at 0x7fec2f623eb8>"
      ]
     },
     "execution_count": 27,
     "metadata": {
     },
     "output_type": "execute_result"
    },
    {
     "data": {
      "image/png": "[encoded data removed]",
      "text/plain": [
       "<Figure size 864x576 with 1 Axes>"
      ]
     },
     "execution_count": 27,
     "metadata": {
      "image/png": {
       "height": 481,
       "width": 722
      }
     },
     "output_type": "execute_result"
    }
   ],
   "source": [
    "# Some people have contributed multiple ideas, though most have contribute either 1 or 2\n",
    "plt.figure(figsize=(12,8))\n",
    "sns.set_palette(sns.color_palette(\"Set2\", 10))\n",
    "sns.set_style(\"whitegrid\")\n",
    "sns.countplot(ideas_df['author-id'].value_counts())"
   ]
  },
  {
   "cell_type": "markdown",
   "metadata": {
    "colab_type": "text",
    "collapsed": false,
    "id": "Mvi9rwqvnVoD"
   },
   "source": [
    "## Merge the `final_users_df` and `ideas_df` datasets for a complete picture of the competition"
   ]
  },
  {
   "cell_type": "code",
   "execution_count": 28,
   "metadata": {
    "colab": {
     "base_uri": "https://localhost:8080/",
     "height": 281
    },
    "colab_type": "code",
    "collapsed": false,
    "id": "cHtNMsvFi1iW",
    "outputId": "4f1fcf3b-4e1d-4c97-ba19-3ef68c88d686"
   },
   "outputs": [
    {
     "data": {
      "text/html": [
       "<div>\n",
       "<style scoped>\n",
       "    .dataframe tbody tr th:only-of-type {\n",
       "        vertical-align: middle;\n",
       "    }\n",
       "\n",
       "    .dataframe tbody tr th {\n",
       "        vertical-align: top;\n",
       "    }\n",
       "\n",
       "    .dataframe thead th {\n",
       "        text-align: right;\n",
       "    }\n",
       "</style>\n",
       "<table border=\"1\" class=\"dataframe\">\n",
       "  <thead>\n",
       "    <tr style=\"text-align: right;\">\n",
       "      <th></th>\n",
       "      <th>email</th>\n",
       "      <th>fname</th>\n",
       "      <th>house</th>\n",
       "      <th>author-id</th>\n",
       "      <th>lname</th>\n",
       "      <th>body</th>\n",
       "      <th>id</th>\n",
       "      <th>title</th>\n",
       "      <th>average_score</th>\n",
       "    </tr>\n",
       "  </thead>\n",
       "  <tbody>\n",
       "    <tr>\n",
       "      <th>0</th>\n",
       "      <td>annabelle75@me.com</td>\n",
       "      <td>Olivia</td>\n",
       "      <td>FreeFolk</td>\n",
       "      <td>user-32-0008735</td>\n",
       "      <td>Raymond</td>\n",
       "      <td>Pariatur vel aliquam quibusdam ipsam.</td>\n",
       "      <td>idea-15-0002513</td>\n",
       "      <td>Aut est quibusdam dolor unde odio ut perspicia...</td>\n",
       "      <td>2.166667</td>\n",
       "    </tr>\n",
       "    <tr>\n",
       "      <th>1</th>\n",
       "      <td>annabelle75@me.com</td>\n",
       "      <td>Olivia</td>\n",
       "      <td>FreeFolk</td>\n",
       "      <td>user-32-0008735</td>\n",
       "      <td>Raymond</td>\n",
       "      <td>Et et adipisci et mollitia ut veniam inventore...</td>\n",
       "      <td>idea-90-0005654</td>\n",
       "      <td>Cumque cum aliquid asperiores aut occaecati.</td>\n",
       "      <td>3.000000</td>\n",
       "    </tr>\n",
       "    <tr>\n",
       "      <th>2</th>\n",
       "      <td>annabelle75@me.com</td>\n",
       "      <td>Olivia</td>\n",
       "      <td>FreeFolk</td>\n",
       "      <td>user-32-0008735</td>\n",
       "      <td>Raymond</td>\n",
       "      <td>Sit qui eos quasi laudantium et nostrum optio.</td>\n",
       "      <td>idea-98-0001094</td>\n",
       "      <td>Asperiores perspiciatis sed perferendis qui ev...</td>\n",
       "      <td>4.333333</td>\n",
       "    </tr>\n",
       "    <tr>\n",
       "      <th>3</th>\n",
       "      <td>taylor@me.com</td>\n",
       "      <td>Sebastian</td>\n",
       "      <td>Lannister</td>\n",
       "      <td>user-76-0007445</td>\n",
       "      <td>Meyer</td>\n",
       "      <td>Et voluptatem reprehenderit consequatur adipis...</td>\n",
       "      <td>idea-91-0001645</td>\n",
       "      <td>Commodi aut temporibus sit aspernatur odio at.</td>\n",
       "      <td>4.600000</td>\n",
       "    </tr>\n",
       "    <tr>\n",
       "      <th>4</th>\n",
       "      <td>britt@hotmail.com</td>\n",
       "      <td>Aiden</td>\n",
       "      <td>FreeFolk</td>\n",
       "      <td>user-06-0008566</td>\n",
       "      <td>Howell</td>\n",
       "      <td>Fuga temporibus nostrum modi officia optio id ...</td>\n",
       "      <td>idea-05-0009556</td>\n",
       "      <td>Qui suscipit rerum ut quam.</td>\n",
       "      <td>7.000000</td>\n",
       "    </tr>\n",
       "  </tbody>\n",
       "</table>\n",
       "</div>"
      ],
      "text/plain": [
       "                email      fname      house        author-id    lname  \\\n",
       "0  annabelle75@me.com     Olivia   FreeFolk  user-32-0008735  Raymond   \n",
       "1  annabelle75@me.com     Olivia   FreeFolk  user-32-0008735  Raymond   \n",
       "2  annabelle75@me.com     Olivia   FreeFolk  user-32-0008735  Raymond   \n",
       "3       taylor@me.com  Sebastian  Lannister  user-76-0007445    Meyer   \n",
       "4   britt@hotmail.com      Aiden   FreeFolk  user-06-0008566   Howell   \n",
       "\n",
       "                                                body               id  \\\n",
       "0              Pariatur vel aliquam quibusdam ipsam.  idea-15-0002513   \n",
       "1  Et et adipisci et mollitia ut veniam inventore...  idea-90-0005654   \n",
       "2     Sit qui eos quasi laudantium et nostrum optio.  idea-98-0001094   \n",
       "3  Et voluptatem reprehenderit consequatur adipis...  idea-91-0001645   \n",
       "4  Fuga temporibus nostrum modi officia optio id ...  idea-05-0009556   \n",
       "\n",
       "                                               title  average_score  \n",
       "0  Aut est quibusdam dolor unde odio ut perspicia...       2.166667  \n",
       "1       Cumque cum aliquid asperiores aut occaecati.       3.000000  \n",
       "2  Asperiores perspiciatis sed perferendis qui ev...       4.333333  \n",
       "3     Commodi aut temporibus sit aspernatur odio at.       4.600000  \n",
       "4                        Qui suscipit rerum ut quam.       7.000000  "
      ]
     },
     "execution_count": 28,
     "metadata": {
     },
     "output_type": "execute_result"
    }
   ],
   "source": [
    "users_ideas_merged_df = pd.merge(final_users_df, ideas_df, on='author-id')\n",
    "\n",
    "users_ideas_merged_df.head()"
   ]
  },
  {
   "cell_type": "code",
   "execution_count": 29,
   "metadata": {
    "colab": {
     "base_uri": "https://localhost:8080/",
     "height": 354
    },
    "colab_type": "code",
    "collapsed": false,
    "id": "BvF0aKR-te33",
    "outputId": "99a892e8-1d39-40a8-cb9c-45462b912595"
   },
   "outputs": [
    {
     "data": {
      "text/plain": [
       "<matplotlib.axes._subplots.AxesSubplot at 0x7fec2f6261d0>"
      ]
     },
     "execution_count": 29,
     "metadata": {
     },
     "output_type": "execute_result"
    },
    {
     "data": {
      "image/png": "[encoded data removed]",
      "text/plain": [
       "<Figure size 576x360 with 1 Axes>"
      ]
     },
     "execution_count": 29,
     "metadata": {
      "image/png": {
       "height": 317,
       "width": 499
      }
     },
     "output_type": "execute_result"
    }
   ],
   "source": [
    "# NOTE: There is a repetition of ideas now since a user with two houses who contributed a single idea is now \\\n",
    "# treated as two distinct users belonging to a unique house, who have contributed a single idea.\n",
    "sns.set_palette(sns.color_palette(\"Set2\", 10))\n",
    "sns.set_style(\"whitegrid\")\n",
    "plt.figure(figsize=(8,5))\n",
    "sns.countplot(users_ideas_merged_df['id'].value_counts())"
   ]
  },
  {
   "cell_type": "markdown",
   "metadata": {
    "colab_type": "text",
    "collapsed": false,
    "id": "E9x1m0BruQ3i"
   },
   "source": [
    "### Explanation of `users_ideas_merged_df`.\n",
    "\n",
    "`Aubrey Carlson` with `author-id` of `user-94-0002159` has contributed three distinct ideas `idea-51-0000624`, `idea-14-0007748` and `idea-54-0003131`.\n",
    "\n",
    "However, since she belongs to two houses `Martell` and `Baratheon`, for our analysis we will consider that `Aubrey Carlson of house Martell` contributed 3 ideas and `Aubrey Carlson of house Baratheon` contributed 3 ideas."
   ]
  },
  {
   "cell_type": "code",
   "execution_count": 30,
   "metadata": {
    "colab": {
     "base_uri": "https://localhost:8080/",
     "height": 141
    },
    "colab_type": "code",
    "collapsed": false,
    "id": "QaMxcPjysiPF",
    "outputId": "14a4a641-759b-4959-be64-09ae8bb61c19"
   },
   "outputs": [
    {
     "data": {
      "text/html": [
       "<div>\n",
       "<style scoped>\n",
       "    .dataframe tbody tr th:only-of-type {\n",
       "        vertical-align: middle;\n",
       "    }\n",
       "\n",
       "    .dataframe tbody tr th {\n",
       "        vertical-align: top;\n",
       "    }\n",
       "\n",
       "    .dataframe thead th {\n",
       "        text-align: right;\n",
       "    }\n",
       "</style>\n",
       "<table border=\"1\" class=\"dataframe\">\n",
       "  <thead>\n",
       "    <tr style=\"text-align: right;\">\n",
       "      <th></th>\n",
       "      <th>email</th>\n",
       "      <th>fname</th>\n",
       "      <th>house</th>\n",
       "      <th>author-id</th>\n",
       "      <th>lname</th>\n",
       "      <th>body</th>\n",
       "      <th>id</th>\n",
       "      <th>title</th>\n",
       "      <th>average_score</th>\n",
       "    </tr>\n",
       "  </thead>\n",
       "  <tbody>\n",
       "    <tr>\n",
       "      <th>691</th>\n",
       "      <td>avery@me.com</td>\n",
       "      <td>Aubrey</td>\n",
       "      <td>Martell</td>\n",
       "      <td>user-94-0002159</td>\n",
       "      <td>Carlson</td>\n",
       "      <td>Temporibus perferendis eius veniam tenetur lib...</td>\n",
       "      <td>idea-51-0000624</td>\n",
       "      <td>Numquam architecto qui itaque molestias deseru...</td>\n",
       "      <td>6.0</td>\n",
       "    </tr>\n",
       "    <tr>\n",
       "      <th>694</th>\n",
       "      <td>avery@me.com</td>\n",
       "      <td>Aubrey</td>\n",
       "      <td>Baratheon</td>\n",
       "      <td>user-94-0002159</td>\n",
       "      <td>Carlson</td>\n",
       "      <td>Temporibus perferendis eius veniam tenetur lib...</td>\n",
       "      <td>idea-51-0000624</td>\n",
       "      <td>Numquam architecto qui itaque molestias deseru...</td>\n",
       "      <td>6.0</td>\n",
       "    </tr>\n",
       "  </tbody>\n",
       "</table>\n",
       "</div>"
      ],
      "text/plain": [
       "            email   fname      house        author-id    lname  \\\n",
       "691  avery@me.com  Aubrey    Martell  user-94-0002159  Carlson   \n",
       "694  avery@me.com  Aubrey  Baratheon  user-94-0002159  Carlson   \n",
       "\n",
       "                                                  body               id  \\\n",
       "691  Temporibus perferendis eius veniam tenetur lib...  idea-51-0000624   \n",
       "694  Temporibus perferendis eius veniam tenetur lib...  idea-51-0000624   \n",
       "\n",
       "                                                 title  average_score  \n",
       "691  Numquam architecto qui itaque molestias deseru...            6.0  \n",
       "694  Numquam architecto qui itaque molestias deseru...            6.0  "
      ]
     },
     "execution_count": 30,
     "metadata": {
     },
     "output_type": "execute_result"
    }
   ],
   "source": [
    "# Gives use the \"unique\" users who contribtued to an idea.\n",
    "users_ideas_merged_df.loc[users_ideas_merged_df['id'] == 'idea-51-0000624']"
   ]
  },
  {
   "cell_type": "code",
   "execution_count": 31,
   "metadata": {
    "colab": {
     "base_uri": "https://localhost:8080/",
     "height": 327
    },
    "colab_type": "code",
    "collapsed": false,
    "id": "_igDHfPbuAzi",
    "outputId": "44df233b-2dd9-4bee-aed1-f90bf735006a"
   },
   "outputs": [
    {
     "data": {
      "text/html": [
       "<div>\n",
       "<style scoped>\n",
       "    .dataframe tbody tr th:only-of-type {\n",
       "        vertical-align: middle;\n",
       "    }\n",
       "\n",
       "    .dataframe tbody tr th {\n",
       "        vertical-align: top;\n",
       "    }\n",
       "\n",
       "    .dataframe thead th {\n",
       "        text-align: right;\n",
       "    }\n",
       "</style>\n",
       "<table border=\"1\" class=\"dataframe\">\n",
       "  <thead>\n",
       "    <tr style=\"text-align: right;\">\n",
       "      <th></th>\n",
       "      <th>email</th>\n",
       "      <th>fname</th>\n",
       "      <th>house</th>\n",
       "      <th>author-id</th>\n",
       "      <th>lname</th>\n",
       "      <th>body</th>\n",
       "      <th>id</th>\n",
       "      <th>title</th>\n",
       "      <th>average_score</th>\n",
       "    </tr>\n",
       "  </thead>\n",
       "  <tbody>\n",
       "    <tr>\n",
       "      <th>690</th>\n",
       "      <td>avery@me.com</td>\n",
       "      <td>Aubrey</td>\n",
       "      <td>Martell</td>\n",
       "      <td>user-94-0002159</td>\n",
       "      <td>Carlson</td>\n",
       "      <td>Quam quisquam sint sit et suscipit fugiat exce...</td>\n",
       "      <td>idea-14-0007748</td>\n",
       "      <td>Voluptate et assumenda ab et est sint recusandae.</td>\n",
       "      <td>1.000000</td>\n",
       "    </tr>\n",
       "    <tr>\n",
       "      <th>691</th>\n",
       "      <td>avery@me.com</td>\n",
       "      <td>Aubrey</td>\n",
       "      <td>Martell</td>\n",
       "      <td>user-94-0002159</td>\n",
       "      <td>Carlson</td>\n",
       "      <td>Temporibus perferendis eius veniam tenetur lib...</td>\n",
       "      <td>idea-51-0000624</td>\n",
       "      <td>Numquam architecto qui itaque molestias deseru...</td>\n",
       "      <td>6.000000</td>\n",
       "    </tr>\n",
       "    <tr>\n",
       "      <th>692</th>\n",
       "      <td>avery@me.com</td>\n",
       "      <td>Aubrey</td>\n",
       "      <td>Martell</td>\n",
       "      <td>user-94-0002159</td>\n",
       "      <td>Carlson</td>\n",
       "      <td>Corrupti eaque cum libero incidunt. Libero eli...</td>\n",
       "      <td>idea-54-0003131</td>\n",
       "      <td>Dolorem perferendis quia quo perspiciatis sit ...</td>\n",
       "      <td>4.166667</td>\n",
       "    </tr>\n",
       "    <tr>\n",
       "      <th>693</th>\n",
       "      <td>avery@me.com</td>\n",
       "      <td>Aubrey</td>\n",
       "      <td>Baratheon</td>\n",
       "      <td>user-94-0002159</td>\n",
       "      <td>Carlson</td>\n",
       "      <td>Quam quisquam sint sit et suscipit fugiat exce...</td>\n",
       "      <td>idea-14-0007748</td>\n",
       "      <td>Voluptate et assumenda ab et est sint recusandae.</td>\n",
       "      <td>1.000000</td>\n",
       "    </tr>\n",
       "    <tr>\n",
       "      <th>694</th>\n",
       "      <td>avery@me.com</td>\n",
       "      <td>Aubrey</td>\n",
       "      <td>Baratheon</td>\n",
       "      <td>user-94-0002159</td>\n",
       "      <td>Carlson</td>\n",
       "      <td>Temporibus perferendis eius veniam tenetur lib...</td>\n",
       "      <td>idea-51-0000624</td>\n",
       "      <td>Numquam architecto qui itaque molestias deseru...</td>\n",
       "      <td>6.000000</td>\n",
       "    </tr>\n",
       "    <tr>\n",
       "      <th>695</th>\n",
       "      <td>avery@me.com</td>\n",
       "      <td>Aubrey</td>\n",
       "      <td>Baratheon</td>\n",
       "      <td>user-94-0002159</td>\n",
       "      <td>Carlson</td>\n",
       "      <td>Corrupti eaque cum libero incidunt. Libero eli...</td>\n",
       "      <td>idea-54-0003131</td>\n",
       "      <td>Dolorem perferendis quia quo perspiciatis sit ...</td>\n",
       "      <td>4.166667</td>\n",
       "    </tr>\n",
       "  </tbody>\n",
       "</table>\n",
       "</div>"
      ],
      "text/plain": [
       "            email  ... average_score\n",
       "690  avery@me.com  ...      1.000000\n",
       "691  avery@me.com  ...      6.000000\n",
       "692  avery@me.com  ...      4.166667\n",
       "693  avery@me.com  ...      1.000000\n",
       "694  avery@me.com  ...      6.000000\n",
       "695  avery@me.com  ...      4.166667\n",
       "\n",
       "[6 rows x 9 columns]"
      ]
     },
     "execution_count": 31,
     "metadata": {
      "tags": [
      ]
     },
     "output_type": "execute_result"
    }
   ],
   "source": [
    "# Gives us the combination of \"unique\" user-idea after normalization and mergnign\n",
    "users_ideas_merged_df.loc[users_ideas_merged_df['author-id'] == 'user-94-0002159']"
   ]
  },
  {
   "cell_type": "markdown",
   "metadata": {
    "colab_type": "text",
    "collapsed": false,
    "id": "rqOWfkT7szAT"
   },
   "source": [
    "# Results"
   ]
  },
  {
   "cell_type": "markdown",
   "metadata": {
    "colab_type": "text",
    "collapsed": false,
    "id": "RLSEmgVVs1g5"
   },
   "source": [
    "### A list of the houses, from most innovative to least innovative\n"
   ]
  },
  {
   "cell_type": "code",
   "execution_count": 31,
   "metadata": {
    "colab": {
     "base_uri": "https://localhost:8080/",
     "height": 176
    },
    "colab_type": "code",
    "collapsed": false,
    "id": "I4D2Z9LrtG5j",
    "outputId": "5c16d31d-293e-4897-ee8f-893a6c5e0187"
   },
   "outputs": [
    {
     "data": {
      "text/plain": [
       "['FreeFolk',\n",
       " 'Baratheon',\n",
       " 'Targaryen',\n",
       " 'Greyjoy',\n",
       " 'Martell',\n",
       " 'Tully',\n",
       " 'Tyrell',\n",
       " 'Stark',\n",
       " 'Lannister']"
      ]
     },
     "execution_count": 31,
     "metadata": {
     },
     "output_type": "execute_result"
    }
   ],
   "source": [
    "users_ideas_merged_df['house'].value_counts().index.to_list()\n"
   ]
  },
  {
   "cell_type": "code",
   "execution_count": 32,
   "metadata": {
    "colab": {
     "base_uri": "https://localhost:8080/",
     "height": 512
    },
    "colab_type": "code",
    "collapsed": false,
    "id": "adYIe9IMxHV5",
    "outputId": "310ad0b8-4968-4d0e-f947-dc0bdce52572"
   },
   "outputs": [
    {
     "data": {
      "image/png": "[encoded data removed]",
      "text/plain": [
       "<Figure size 864x576 with 1 Axes>"
      ]
     },
     "execution_count": 32,
     "metadata": {
      "image/png": {
       "height": 494,
       "width": 722
      }
     },
     "output_type": "execute_result"
    }
   ],
   "source": [
    "plt.figure(figsize=(12,8))\n",
    "plt.title('List of houses from most innovative to least')\n",
    "sns.set_palette(sns.color_palette(\"Set2\", 10))\n",
    "sns.set_style(\"whitegrid\")\n",
    "ax = sns.countplot(x = 'house', data = users_ideas_merged_df, order= users_ideas_merged_df['house'].value_counts().index)\n",
    "ax.set(ylabel='Number of ideas submitted', xlabel='Name of the Houses')\n",
    "plt.show()\n",
    "              "
   ]
  },
  {
   "cell_type": "markdown",
   "metadata": {
    "colab_type": "text",
    "collapsed": false,
    "id": "73Bfy7y2yG-u"
   },
   "source": [
    "###  The innovation score of each house\n"
   ]
  },
  {
   "cell_type": "code",
   "execution_count": 33,
   "metadata": {
    "colab": {
    },
    "colab_type": "code",
    "collapsed": false,
    "id": "GGwfhirmmQHQ"
   },
   "outputs": [
   ],
   "source": [
    "# Function that calculates the average of all the ideas contributed by a house\n",
    "\n",
    "def innovation_score_of_house(a_house):\n",
    "  house_df = users_ideas_merged_df[users_ideas_merged_df['house'] == a_house]\n",
    "  return house_df[['average_score']].mean()[0]\n"
   ]
  },
  {
   "cell_type": "code",
   "execution_count": 34,
   "metadata": {
    "colab": {
     "base_uri": "https://localhost:8080/",
     "height": 176
    },
    "colab_type": "code",
    "collapsed": false,
    "id": "nY-wZO3RnlNZ",
    "outputId": "b86b8e5a-6992-4a4e-9859-9f4866b185c1"
   },
   "outputs": [
    {
     "data": {
      "text/plain": [
       "{'Baratheon': 4.729347826086956,\n",
       " 'FreeFolk': 4.7847158218125925,\n",
       " 'Greyjoy': 4.5125,\n",
       " 'Lannister': 4.599253731343283,\n",
       " 'Martell': 5.013253012048193,\n",
       " 'Stark': 4.715584415584415,\n",
       " 'Targaryen': 4.529215686274509,\n",
       " 'Tully': 4.6969879518072295,\n",
       " 'Tyrell': 4.583943089430895}"
      ]
     },
     "execution_count": 34,
     "metadata": {
     },
     "output_type": "execute_result"
    }
   ],
   "source": [
    "# Prints the average score of all ideas associated with a house\n",
    "\n",
    "names_of_houses = users_ideas_merged_df['house'].value_counts().index.to_list()\n",
    "\n",
    "innovation_scores_dict = dict()\n",
    "\n",
    "for a_house in names_of_houses: \n",
    "  innovation_scores_dict[a_house] = innovation_score_of_house(a_house)\n",
    "\n",
    "innovation_scores_dict"
   ]
  },
  {
   "cell_type": "code",
   "execution_count": 35,
   "metadata": {
    "colab": {
     "base_uri": "https://localhost:8080/",
     "height": 194
    },
    "colab_type": "code",
    "collapsed": false,
    "id": "g_V0cG24pTg7",
    "outputId": "ec619273-5050-4836-c1a2-f082950e561f"
   },
   "outputs": [
    {
     "data": {
      "text/plain": [
       "Martell      5.013253\n",
       "FreeFolk     4.784716\n",
       "Baratheon    4.729348\n",
       "Stark        4.715584\n",
       "Tully        4.696988\n",
       "Lannister    4.599254\n",
       "Tyrell       4.583943\n",
       "Targaryen    4.529216\n",
       "Greyjoy      4.512500\n",
       "dtype: float64"
      ]
     },
     "execution_count": 35,
     "metadata": {
     },
     "output_type": "execute_result"
    }
   ],
   "source": [
    "# Houses sorted by their innovation scores\n",
    "\n",
    "innovation_scores_series = pd.Series(innovation_scores_dict, index=names_of_houses).sort_values(ascending=False)\n",
    "innovation_scores_series\n"
   ]
  },
  {
   "cell_type": "code",
   "execution_count": 36,
   "metadata": {
    "colab": {
     "base_uri": "https://localhost:8080/",
     "height": 350
    },
    "colab_type": "code",
    "collapsed": false,
    "id": "vyMKEdgwozFw",
    "outputId": "0ed49e5f-bdfa-40a7-91b8-31f1767a599d"
   },
   "outputs": [
    {
     "data": {
      "image/png": "[encoded data removed]",
      "text/plain": [
       "<Figure size 864x360 with 1 Axes>"
      ]
     },
     "execution_count": 36,
     "metadata": {
      "image/png": {
       "height": 331,
       "width": 711
      }
     },
     "output_type": "execute_result"
    }
   ],
   "source": [
    "\n",
    "plt.figure(figsize=(12,5))\n",
    "plt.title('Houses and their average scores for the submitted ideas')\n",
    "sns.set_palette(sns.color_palette(\"Set2\", 10))\n",
    "sns.set_style(\"whitegrid\")\n",
    "ax = sns.barplot(x= innovation_scores_series.index, y= innovation_scores_series.values)\n",
    "ax.set(ylabel='Average scores', xlabel='Name of the Houses')\n",
    "plt.show()\n",
    "             "
   ]
  },
  {
   "cell_type": "markdown",
   "metadata": {
    "colab_type": "text",
    "collapsed": false,
    "id": "5zZ6kZEcymd3"
   },
   "source": [
    "### The number of ideas submitted by each house\n"
   ]
  },
  {
   "cell_type": "code",
   "execution_count": 37,
   "metadata": {
    "colab": {
     "base_uri": "https://localhost:8080/",
     "height": 194
    },
    "colab_type": "code",
    "collapsed": false,
    "id": "8mUOQpH5yV7S",
    "outputId": "0ccbe773-56b4-4bd9-b5df-096e47bc2b2e"
   },
   "outputs": [
    {
     "data": {
      "text/plain": [
       "FreeFolk     217\n",
       "Baratheon     92\n",
       "Targaryen     85\n",
       "Greyjoy       84\n",
       "Martell       83\n",
       "Tully         83\n",
       "Tyrell        82\n",
       "Stark         77\n",
       "Lannister     67\n",
       "Name: house, dtype: int64"
      ]
     },
     "execution_count": 37,
     "metadata": {
     },
     "output_type": "execute_result"
    }
   ],
   "source": [
    "users_ideas_merged_df['house'].value_counts()\n"
   ]
  },
  {
   "cell_type": "code",
   "execution_count": 0,
   "metadata": {
    "colab": {
    },
    "colab_type": "code",
    "collapsed": false,
    "id": "Fud--A2vBv76"
   },
   "outputs": [
   ],
   "source": [
   ]
  }
 ],
 "metadata": {
  "colab": {
   "collapsed_sections": [
   ],
   "name": "game-of-thrones-ideathon.ipynb",
   "provenance": [
   ],
   "version": "0.3.2"
  },
  "kernelspec": {
   "display_name": "Python 3 (system-wide)",
   "language": "python",
   "metadata": {
    "cocalc": {
     "description": "Python 3 programming language",
     "priority": 100,
     "url": "https://www.python.org/"
    }
   },
   "name": "python3"
  },
  "language_info": {
   "codemirror_mode": {
    "name": "ipython",
    "version": 3
   },
   "file_extension": ".py",
   "mimetype": "text/x-python",
   "name": "python",
   "nbconvert_exporter": "python",
   "pygments_lexer": "ipython3",
   "version": "3.6.8"
  }
 },
 "nbformat": 4,
 "nbformat_minor": 0
}